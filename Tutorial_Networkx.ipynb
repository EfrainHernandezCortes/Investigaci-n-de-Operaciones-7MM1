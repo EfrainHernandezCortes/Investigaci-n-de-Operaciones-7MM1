{
  "nbformat": 4,
  "nbformat_minor": 0,
  "metadata": {
    "colab": {
      "provenance": [],
      "authorship_tag": "ABX9TyNgePTp4xj9Qqed3dYePV2L",
      "include_colab_link": true
    },
    "kernelspec": {
      "name": "python3",
      "display_name": "Python 3"
    },
    "language_info": {
      "name": "python"
    }
  },
  "cells": [
    {
      "cell_type": "markdown",
      "metadata": {
        "id": "view-in-github",
        "colab_type": "text"
      },
      "source": [
        "<a href=\"https://colab.research.google.com/github/EfrainHernandezCortes/Investigaci-n-de-Operaciones-7MM1/blob/main/Tutorial_Networkx.ipynb\" target=\"_parent\"><img src=\"https://colab.research.google.com/assets/colab-badge.svg\" alt=\"Open In Colab\"/></a>"
      ]
    },
    {
      "cell_type": "markdown",
      "source": [
        "Tutorial Actualizado."
      ],
      "metadata": {
        "id": "oo0xw3v-qGN2"
      }
    },
    {
      "cell_type": "markdown",
      "source": [
        "Importar la librería Networkx."
      ],
      "metadata": {
        "id": "KmC2eGpFqLYV"
      }
    },
    {
      "cell_type": "code",
      "execution_count": 89,
      "metadata": {
        "id": "An5ijJyCqFJA"
      },
      "outputs": [],
      "source": [
        "import networkx as nx\n",
        "import netwulf as nw\n",
        "import matplotlib.pyplot as plt\n",
        "import numpy as np"
      ]
    },
    {
      "cell_type": "markdown",
      "source": [
        "Agrega los nodos, con una capacidad dada."
      ],
      "metadata": {
        "id": "GFFB2ScCqq4c"
      }
    },
    {
      "cell_type": "code",
      "source": [
        "G=nx.DiGraph() #grafo dirigido\n",
        "G.add_edges_from(\n",
        "    [\n",
        "        (1, 2, {\"weight\": 4}),\n",
        "        (1, 4, {\"weight\": 6}),\n",
        "        (1, 5, {\"weight\": 8}),\n",
        "        (2, 3, {\"weight\": 11}),\n",
        "        (2, 4, {\"weight\": 8}),\n",
        "        (3, 5, {\"weight\": 5}),\n",
        "        (3, 6, {\"weight\": 2}),\n",
        "        (4, 6, {\"weight\": 4}),\n",
        "    ]\n",
        ")\n",
        "G"
      ],
      "metadata": {
        "colab": {
          "base_uri": "https://localhost:8080/"
        },
        "id": "OSey6o6wqt5Z",
        "outputId": "9f2f1034-c9e9-4d2b-e5a5-3ebe2c27d089"
      },
      "execution_count": 90,
      "outputs": [
        {
          "output_type": "execute_result",
          "data": {
            "text/plain": [
              "<networkx.classes.digraph.DiGraph at 0x7bc907916ab0>"
            ]
          },
          "metadata": {},
          "execution_count": 90
        }
      ]
    },
    {
      "cell_type": "markdown",
      "source": [
        "Se grafican los arcos y nodos."
      ],
      "metadata": {
        "id": "Sp3XdWI5q4M7"
      }
    },
    {
      "cell_type": "code",
      "source": [
        "nx.draw_networkx(G)\n",
        "plt.title(\"Arcos y nodos\")"
      ],
      "metadata": {
        "colab": {
          "base_uri": "https://localhost:8080/",
          "height": 445
        },
        "id": "BR_oZadKq2SS",
        "outputId": "548d8219-10b6-4ad5-cac2-b138639f30ca"
      },
      "execution_count": 91,
      "outputs": [
        {
          "output_type": "execute_result",
          "data": {
            "text/plain": [
              "Text(0.5, 1.0, 'Arcos y nodos')"
            ]
          },
          "metadata": {},
          "execution_count": 91
        },
        {
          "output_type": "display_data",
          "data": {
            "text/plain": [
              "<Figure size 640x480 with 1 Axes>"
            ],
            "image/png": "[encoded data removed]"
          },
          "metadata": {}
        }
      ]
    },
    {
      "cell_type": "markdown",
      "source": [
        "Se devuelve la lista de nodos que conforman la red."
      ],
      "metadata": {
        "id": "6xTAeGFurBZ5"
      }
    },
    {
      "cell_type": "code",
      "source": [
        "nx.nodes(G)"
      ],
      "metadata": {
        "colab": {
          "base_uri": "https://localhost:8080/"
        },
        "id": "8Xox-YP2rEDP",
        "outputId": "bacd505e-e27a-4a2a-93a5-4e31bc8ab8f8"
      },
      "execution_count": 92,
      "outputs": [
        {
          "output_type": "execute_result",
          "data": {
            "text/plain": [
              "NodeView((1, 2, 4, 5, 3, 6))"
            ]
          },
          "metadata": {},
          "execution_count": 92
        }
      ]
    },
    {
      "cell_type": "markdown",
      "source": [
        "Se devuelve la lista de arcos que conforman la red."
      ],
      "metadata": {
        "id": "8COPmzBtrLoU"
      }
    },
    {
      "cell_type": "code",
      "source": [
        "nx.edges(G)"
      ],
      "metadata": {
        "colab": {
          "base_uri": "https://localhost:8080/"
        },
        "id": "wXonC8WArN5I",
        "outputId": "59b58526-66d9-4387-e0a6-9aea7bd4cce5"
      },
      "execution_count": 93,
      "outputs": [
        {
          "output_type": "execute_result",
          "data": {
            "text/plain": [
              "OutEdgeView([(1, 2), (1, 4), (1, 5), (2, 3), (2, 4), (4, 6), (3, 5), (3, 6)])"
            ]
          },
          "metadata": {},
          "execution_count": 93
        }
      ]
    },
    {
      "cell_type": "markdown",
      "source": [
        "Se devuelve el número de nodos en la red."
      ],
      "metadata": {
        "id": "v89pBkK-rTVP"
      }
    },
    {
      "cell_type": "code",
      "source": [
        "nx.number_of_nodes(G)"
      ],
      "metadata": {
        "colab": {
          "base_uri": "https://localhost:8080/"
        },
        "id": "KOuGE_asrVUR",
        "outputId": "b67c3109-e22b-4cfc-cbbd-379e22f6f84d"
      },
      "execution_count": 94,
      "outputs": [
        {
          "output_type": "execute_result",
          "data": {
            "text/plain": [
              "6"
            ]
          },
          "metadata": {},
          "execution_count": 94
        }
      ]
    },
    {
      "cell_type": "markdown",
      "source": [
        "Ahora dibujamos el mismo grafo, ahora no dirigido, para poder encontrar el árbol de expansión mínima."
      ],
      "metadata": {
        "id": "OhMknwE3w3il"
      }
    },
    {
      "cell_type": "code",
      "source": [
        "G_no_dirigida=nx.Graph() #grafo dirigido\n",
        "G_no_dirigida.add_edges_from(\n",
        "    [\n",
        "        (1, 2, {\"weight\": 4}),\n",
        "        (1, 4, {\"weight\": 6}),\n",
        "        (1, 5, {\"weight\": 8}),\n",
        "        (2, 3, {\"weight\": 11}),\n",
        "        (2, 4, {\"weight\": 8}),\n",
        "        (3, 5, {\"weight\": 5}),\n",
        "        (3, 6, {\"weight\": 2}),\n",
        "        (4, 6, {\"weight\": 4}),\n",
        "    ]\n",
        ")\n",
        "G_no_dirigida"
      ],
      "metadata": {
        "colab": {
          "base_uri": "https://localhost:8080/"
        },
        "id": "_GcZRnhgxBRI",
        "outputId": "f9287db9-a5b6-48dd-8c52-2172e8a276d1"
      },
      "execution_count": 95,
      "outputs": [
        {
          "output_type": "execute_result",
          "data": {
            "text/plain": [
              "<networkx.classes.graph.Graph at 0x7bc907c40260>"
            ]
          },
          "metadata": {},
          "execution_count": 95
        }
      ]
    },
    {
      "cell_type": "markdown",
      "source": [
        "Encuentra el árbol de expansión mínima."
      ],
      "metadata": {
        "id": "-Sf2bI4-sqdr"
      }
    },
    {
      "cell_type": "code",
      "source": [
        "T = nx.minimum_spanning_tree(G_no_dirigida)"
      ],
      "metadata": {
        "id": "_6PIPym1stX-"
      },
      "execution_count": 96,
      "outputs": []
    },
    {
      "cell_type": "markdown",
      "source": [
        "Se grafica el árbol de expansión mínima."
      ],
      "metadata": {
        "id": "b87kMorUxtD6"
      }
    },
    {
      "cell_type": "code",
      "source": [
        "pos = nx.spring_layout(G_no_dirigida)\n",
        "nx.draw_networkx_nodes(G_no_dirigida, pos, node_color=\"lightblue\", node_size=500)\n",
        "nx.draw_networkx_edges(G_no_dirigida, pos, edge_color=\"grey\")\n",
        "nx.draw_networkx_labels(G_no_dirigida, pos, font_size=12, font_family=\"sans-serif\")\n",
        "nx.draw_networkx_edge_labels(\n",
        "    G_no_dirigida, pos, edge_labels={(u, v): d[\"weight\"] for u, v, d in G_no_dirigida.edges(data=True)}\n",
        ")\n",
        "# nx.draw_networkx_edges(T, pos, edge_color=\"green\", width=2) # T is not defined as minimum_spanning_tree is not for directed graphs\n",
        "plt.axis(\"off\")\n",
        "plt.show()"
      ],
      "metadata": {
        "colab": {
          "base_uri": "https://localhost:8080/",
          "height": 406
        },
        "id": "6xfkhCCctTRO",
        "outputId": "d4e65c52-2419-4fc4-e354-3438a955d1ef"
      },
      "execution_count": 97,
      "outputs": [
        {
          "output_type": "display_data",
          "data": {
            "text/plain": [
              "<Figure size 640x480 with 1 Axes>"
            ],
            "image/png": "[encoded data removed]"
          },
          "metadata": {}
        }
      ]
    },
    {
      "cell_type": "markdown",
      "source": [
        "Ruta más corta."
      ],
      "metadata": {
        "id": "Y-0W4Uxs0okt"
      }
    },
    {
      "cell_type": "code",
      "source": [
        "shortest_path = nx.shortest_path(G_no_dirigida, source=2, target=6, method='dijkstra')\n",
        "shortest_path"
      ],
      "metadata": {
        "colab": {
          "base_uri": "https://localhost:8080/"
        },
        "id": "wf_n3Ge20qWL",
        "outputId": "dfc097d4-9a77-46f9-f6ef-2caed09f64b2"
      },
      "execution_count": 98,
      "outputs": [
        {
          "output_type": "execute_result",
          "data": {
            "text/plain": [
              "[2, 3, 6]"
            ]
          },
          "metadata": {},
          "execution_count": 98
        }
      ]
    },
    {
      "cell_type": "markdown",
      "source": [
        "Flujo máximo."
      ],
      "metadata": {
        "id": "zKgj5Hsv14wM"
      }
    },
    {
      "cell_type": "code",
      "source": [
        "flow_value, flow_dict = nx.maximum_flow(G, 1, 6, capacity='weight')\n",
        "flow_value"
      ],
      "metadata": {
        "colab": {
          "base_uri": "https://localhost:8080/"
        },
        "id": "GGV6YRkZ16ar",
        "outputId": "3b008ebe-bdfa-4953-e825-9726b493a2b5"
      },
      "execution_count": 99,
      "outputs": [
        {
          "output_type": "execute_result",
          "data": {
            "text/plain": [
              "6"
            ]
          },
          "metadata": {},
          "execution_count": 99
        }
      ]
    }
  ]
}